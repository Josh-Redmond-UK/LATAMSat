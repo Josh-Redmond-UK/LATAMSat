{
 "cells": [
  {
   "cell_type": "code",
   "execution_count": 1,
   "id": "5a2e2314-3ef1-4ca1-a3e5-d43134967b05",
   "metadata": {},
   "outputs": [
    {
     "name": "stderr",
     "output_type": "stream",
     "text": [
      "2023-11-02 10:31:45.004289: W tensorflow/tsl/platform/cloud/google_auth_provider.cc:184] All attempts to get a Google authentication bearer token failed, returning an empty token. Retrieving token from files failed with \"NOT_FOUND: Could not locate the credentials file.\". Retrieving token from GCE failed with \"FAILED_PRECONDITION: Error executing an HTTP request: libcurl code 6 meaning 'Couldn't resolve host name', error details: Could not resolve host: metadata.google.internal\".\n",
      "2023-11-02 10:31:47.869045: I metal_plugin/src/device/metal_device.cc:1154] Metal device set to: Apple M2 Pro\n",
      "2023-11-02 10:31:47.869067: I metal_plugin/src/device/metal_device.cc:296] systemMemory: 16.00 GB\n",
      "2023-11-02 10:31:47.869073: I metal_plugin/src/device/metal_device.cc:313] maxCacheSize: 5.33 GB\n",
      "2023-11-02 10:31:47.869339: I tensorflow/core/common_runtime/pluggable_device/pluggable_device_factory.cc:303] Could not identify NUMA node of platform GPU ID 0, defaulting to 0. Your kernel may not have been built with NUMA support.\n",
      "2023-11-02 10:31:47.869360: I tensorflow/core/common_runtime/pluggable_device/pluggable_device_factory.cc:269] Created TensorFlow device (/job:localhost/replica:0/task:0/device:GPU:0 with 0 MB memory) -> physical PluggableDevice (device: 0, name: METAL, pci bus id: <undefined>)\n"
     ]
    }
   ],
   "source": [
    "import tensorflow as tf\n",
    "import tensorflow_hub as hub\n",
    "import tensorflow_datasets as tfds\n",
    "import glob\n",
    "import shutil\n",
    "import os\n",
    "from cleanlab import Datalab\n",
    "import pandas as pd\n",
    "import numpy as np\n",
    "from scriptUtils import *\n",
    "\n",
    "folder = 'latamSatData/datasetRGB_relabel/'\n",
    "builder = tfds.folder_dataset.ImageFolder(folder)\n",
    "full_dataset = builder.as_dataset()['Train']\n",
    "\n"
   ]
  },
  {
   "cell_type": "code",
   "execution_count": null,
   "id": "ec1e93e7-1684-4d39-9ad9-08e0e2c94273",
   "metadata": {},
   "outputs": [],
   "source": []
  },
  {
   "cell_type": "code",
   "execution_count": 2,
   "id": "3ca5d6c8-e5e9-492a-b44d-70f1aa1fec82",
   "metadata": {},
   "outputs": [],
   "source": [
    "def lognormalise(image, bottom_pct, top_pct):\n",
    "    image = np.nan_to_num(image)\n",
    "    image = np.log(image)\n",
    "    min = np.percentile(image.flatten(), bottom_pct)\n",
    "    max = np.percentile(image.flatten(), top_pct)\n",
    "    image = (image - min)/(max-min)\n",
    "    return image\n",
    "\n",
    "\n",
    "\n",
    "    "
   ]
  },
  {
   "cell_type": "code",
   "execution_count": null,
   "id": "74a7e602-ebe8-4755-8ea7-1fe08cc498fb",
   "metadata": {},
   "outputs": [
    {
     "name": "stdout",
     "output_type": "stream",
     "text": [
      "starting iteration 0\n",
      "Epoch 1/24\n"
     ]
    },
    {
     "name": "stderr",
     "output_type": "stream",
     "text": [
      "2023-11-02 10:32:50.895764: I tensorflow/core/grappler/optimizers/custom_graph_optimizer_registry.cc:114] Plugin optimizer for device_type GPU is enabled.\n"
     ]
    },
    {
     "name": "stdout",
     "output_type": "stream",
     "text": [
      "7471/7472 [============================>.] - ETA: 0s - loss: 1.8270 - accuracy: 0.3773"
     ]
    },
    {
     "name": "stderr",
     "output_type": "stream",
     "text": [
      "2023-11-02 10:38:51.896187: I tensorflow/core/grappler/optimizers/custom_graph_optimizer_registry.cc:114] Plugin optimizer for device_type GPU is enabled.\n"
     ]
    },
    {
     "name": "stdout",
     "output_type": "stream",
     "text": [
      "INFO:tensorflow:Assets written to: cleanlab_model_reshuffle_iteration_0_checkpoint/assets\n"
     ]
    },
    {
     "name": "stderr",
     "output_type": "stream",
     "text": [
      "INFO:tensorflow:Assets written to: cleanlab_model_reshuffle_iteration_0_checkpoint/assets\n"
     ]
    },
    {
     "name": "stdout",
     "output_type": "stream",
     "text": [
      "7472/7472 [==============================] - 397s 53ms/step - loss: 1.8270 - accuracy: 0.3773 - val_loss: 1.5658 - val_accuracy: 0.4453\n",
      "Epoch 2/24\n",
      "7472/7472 [==============================] - 386s 51ms/step - loss: 1.5403 - accuracy: 0.4560 - val_loss: 1.5737 - val_accuracy: 0.4467\n",
      "Epoch 3/24\n",
      "7471/7472 [============================>.] - ETA: 0s - loss: 1.4254 - accuracy: 0.4925INFO:tensorflow:Assets written to: cleanlab_model_reshuffle_iteration_0_checkpoint/assets\n"
     ]
    },
    {
     "name": "stderr",
     "output_type": "stream",
     "text": [
      "INFO:tensorflow:Assets written to: cleanlab_model_reshuffle_iteration_0_checkpoint/assets\n"
     ]
    },
    {
     "name": "stdout",
     "output_type": "stream",
     "text": [
      "7472/7472 [==============================] - 394s 52ms/step - loss: 1.4254 - accuracy: 0.4926 - val_loss: 1.3843 - val_accuracy: 0.5056\n",
      "Epoch 4/24\n",
      "7472/7472 [==============================] - 391s 52ms/step - loss: 1.3422 - accuracy: 0.5180 - val_loss: 1.4496 - val_accuracy: 0.4884\n",
      "Epoch 5/24\n",
      "7472/7472 [==============================] - 397s 53ms/step - loss: 1.2667 - accuracy: 0.5425 - val_loss: 1.3960 - val_accuracy: 0.5083\n",
      "Epoch 6/24\n",
      "7472/7472 [==============================] - 394s 52ms/step - loss: 1.1874 - accuracy: 0.5702 - val_loss: 1.4413 - val_accuracy: 0.5049\n",
      "Epoch 7/24\n",
      "7472/7472 [==============================] - ETA: 0s - loss: 1.0971 - accuracy: 0.6013INFO:tensorflow:Assets written to: cleanlab_model_reshuffle_iteration_0_checkpoint/assets\n"
     ]
    },
    {
     "name": "stderr",
     "output_type": "stream",
     "text": [
      "INFO:tensorflow:Assets written to: cleanlab_model_reshuffle_iteration_0_checkpoint/assets\n"
     ]
    },
    {
     "name": "stdout",
     "output_type": "stream",
     "text": [
      "7472/7472 [==============================] - 401s 53ms/step - loss: 1.0971 - accuracy: 0.6013 - val_loss: 1.3595 - val_accuracy: 0.5195\n",
      "Epoch 8/24\n",
      "7472/7472 [==============================] - ETA: 0s - loss: 0.9913 - accuracy: 0.6392INFO:tensorflow:Assets written to: cleanlab_model_reshuffle_iteration_0_checkpoint/assets\n"
     ]
    },
    {
     "name": "stderr",
     "output_type": "stream",
     "text": [
      "INFO:tensorflow:Assets written to: cleanlab_model_reshuffle_iteration_0_checkpoint/assets\n"
     ]
    },
    {
     "name": "stdout",
     "output_type": "stream",
     "text": [
      "7472/7472 [==============================] - 409s 54ms/step - loss: 0.9913 - accuracy: 0.6392 - val_loss: 1.3522 - val_accuracy: 0.5339\n",
      "Epoch 9/24\n",
      "7472/7472 [==============================] - 395s 52ms/step - loss: 0.8713 - accuracy: 0.6834 - val_loss: 1.3831 - val_accuracy: 0.5312\n",
      "Epoch 10/24\n",
      "7472/7472 [==============================] - 396s 53ms/step - loss: 0.7412 - accuracy: 0.7310 - val_loss: 1.4696 - val_accuracy: 0.5387\n",
      "Epoch 11/24\n",
      "7472/7472 [==============================] - 401s 53ms/step - loss: 0.6116 - accuracy: 0.7786 - val_loss: 1.5863 - val_accuracy: 0.5321\n",
      "Epoch 12/24\n",
      "7472/7472 [==============================] - 399s 53ms/step - loss: 0.4989 - accuracy: 0.8207 - val_loss: 1.7468 - val_accuracy: 0.5268\n",
      "Epoch 13/24\n",
      "7472/7472 [==============================] - 387s 51ms/step - loss: 0.4101 - accuracy: 0.8532 - val_loss: 1.8908 - val_accuracy: 0.5278\n",
      "Epoch 14/24\n",
      "7472/7472 [==============================] - 385s 51ms/step - loss: 0.3447 - accuracy: 0.8776 - val_loss: 1.9497 - val_accuracy: 0.5269\n",
      "Epoch 15/24\n",
      "7472/7472 [==============================] - 394s 52ms/step - loss: 0.2970 - accuracy: 0.8947 - val_loss: 2.1038 - val_accuracy: 0.5188\n",
      "Epoch 16/24\n",
      "7472/7472 [==============================] - 402s 52ms/step - loss: 0.2643 - accuracy: 0.9064 - val_loss: 2.1140 - val_accuracy: 0.5329\n",
      "Epoch 17/24\n",
      "7472/7472 [==============================] - 401s 53ms/step - loss: 0.2401 - accuracy: 0.9151 - val_loss: 2.1986 - val_accuracy: 0.5329\n",
      "Epoch 18/24\n",
      "7472/7472 [==============================] - 405s 53ms/step - loss: 0.2174 - accuracy: 0.9238 - val_loss: 2.4089 - val_accuracy: 0.5175\n",
      "Epoch 19/24\n",
      "7472/7472 [==============================] - 402s 53ms/step - loss: 0.2033 - accuracy: 0.9280 - val_loss: 2.3242 - val_accuracy: 0.5145\n",
      "Epoch 20/24\n",
      "7472/7472 [==============================] - 395s 52ms/step - loss: 0.1882 - accuracy: 0.9341 - val_loss: 2.5558 - val_accuracy: 0.5132\n",
      "Epoch 21/24\n",
      "7472/7472 [==============================] - 459s 61ms/step - loss: 0.1773 - accuracy: 0.9374 - val_loss: 2.5965 - val_accuracy: 0.5162\n",
      "Epoch 22/24\n"
     ]
    },
    {
     "name": "stderr",
     "output_type": "stream",
     "text": [
      "2023-11-02 12:52:51.140877: I tensorflow/core/kernels/data/shuffle_dataset_op.cc:422] Filling up shuffle buffer (this may take a while): 4561 of 7472\n",
      "2023-11-02 12:52:58.758355: I tensorflow/core/kernels/data/shuffle_dataset_op.cc:450] Shuffle buffer filled.\n"
     ]
    },
    {
     "name": "stdout",
     "output_type": "stream",
     "text": [
      "7472/7472 [==============================] - 511s 66ms/step - loss: 0.1654 - accuracy: 0.9422 - val_loss: 2.3425 - val_accuracy: 0.5250\n",
      "Epoch 23/24\n"
     ]
    }
   ],
   "source": [
    "def onehot_encode(x):\n",
    "    x['label'] = tf.one_hot(x['label'], 19)\n",
    "    return x\n",
    "\n",
    "full_dataset.map(onehot_encode)\n",
    "full_dataset = full_dataset.batch(51200*2)\n",
    "\n",
    "\n",
    "m = make_model(input_shape=(64,64,3), num_classes=19)\n",
    "\n",
    "def preprocess_images(batch):\n",
    "    batch['image'] = tf.cast(batch['image'], dtype=tf.float32)\n",
    "    batch['image'] = batch['image'] - tf.math.reduce_mean(batch['image'])\n",
    "    batch['image'] = tf.math.divide_no_nan(batch['image'], tf.math.abs(tf.math.reduce_max(batch['image'])))\n",
    "    return batch\n",
    "    \n",
    "    \n",
    "\n",
    "\n",
    "\n",
    "m.compile(\n",
    "    loss=\"categorical_crossentropy\",\n",
    "    optimizer=\"adam\",\n",
    "    metrics=[\"accuracy\"],\n",
    "    run_eagerly=False\n",
    ")\n",
    "for i in range(5):\n",
    "    print('starting iteration', i)\n",
    "\n",
    "    base_dataset = builder.as_dataset()['Train']\n",
    "\n",
    "\n",
    "    \n",
    "\n",
    "\n",
    "\n",
    "    def get_xy_training(b):\n",
    "        return b['image'], b['label']\n",
    "\n",
    "\n",
    "    #filenames = []\n",
    "    #labels = []\n",
    "    base_dataset = base_dataset.map(onehot_encode)\n",
    "    base_dataset = base_dataset.map(get_xy_training)\n",
    "    train, test = tf.keras.utils.split_dataset(base_dataset, 0.8, 0.2, shuffle=True, seed=1)\n",
    "    train = train.batch(32)\n",
    "    train = train.shuffle(train.cardinality().numpy())\n",
    "    test = test.batch(32)\n",
    "        \n",
    "\n",
    "\n",
    "    \n",
    "    filename = f'cleanlab_model_reshuffle_iteration_{i}'\n",
    "    # train the model on training data for 36 epochs\n",
    "\n",
    "    m.compile(\n",
    "    loss=\"categorical_crossentropy\",\n",
    "    optimizer=\"adam\",\n",
    "    metrics=[\"accuracy\"],\n",
    "    run_eagerly=False)\n",
    "\n",
    "    model_checkpoint_callback = tf.keras.callbacks.ModelCheckpoint(\n",
    "    filepath=filename+'_checkpoint',\n",
    "    save_weights_only=False,\n",
    "    monitor='val_loss',\n",
    "    mode='min',\n",
    "    save_best_only=True)\n",
    "    \n",
    "    \n",
    "    train_history = m.fit(train, validation_data = test, epochs=12, callbacks=[model_checkpoint_callback])\n",
    "    history = train_history.history\n",
    "    history_frame = pd.DataFrame([history['loss'], history['val_loss'], history['accuracy'], history['val_accuracy']],\n",
    "                 index = ['Loss', 'Val_Loss', 'Accuracy', 'Val_Accuracy'])\n",
    "\n",
    "    history_frame.to_csv(f'training_reshuffle_history_dataframe_iteration_{i}.csv')\n",
    "    m.load(filename)\n",
    "\n",
    "    feature_extraction = tf.keras.Model(m.input, m.layers[-3].output)\n",
    "\n",
    "\n",
    "    issues_list = []\n",
    "    labs_list = []\n",
    "    filepaths = []\n",
    "    j = 1\n",
    "    for batch in full_dataset:\n",
    "        print('batch', j)\n",
    "        images = batch['image'].numpy()\n",
    "        classes = batch['label'].numpy()\n",
    "        paths = batch['image/filename']\n",
    "        filepaths.append(paths)\n",
    "        classProb = m.predict(images, verbose=0)\n",
    "        predFeat= feature_extraction.predict(images, verbose=0)\n",
    "        data_to_clean = {'Images':np.squeeze(np.array(images)), 'Labels':np.argmax(classes, axis=1)}\n",
    "        lab = Datalab(data=data_to_clean, label_name=\"Labels\", image_key=\"Images\")\n",
    "        lab.find_issues(pred_probs=np.squeeze(np.array(classProb)), features=np.squeeze(np.array(predFeat)))\n",
    "        issues = lab.get_issues('label')\n",
    "        issues['filepath'] = paths\n",
    "        issues_list.append(issues)\n",
    "        labs_list.append(lab)\n",
    "        j += 1 \n",
    "\n",
    "    all_issues = pd.concat(issues_list)\n",
    "\n",
    "    all_issues\n",
    "    all_issues['given_label'] = all_issues['given_label'].map(classnameDict)\n",
    "    all_issues['predicted_label'] = all_issues['predicted_label'].map(classnameDict)\n",
    "    all_issues['filepath'] = all_issues['filepath'].apply(lambda x: x.decode())\n",
    "    all_issues[all_issues['is_label_issue']]\n",
    "\n",
    "    def relabel_filepath(file_path, new_label):\n",
    "        file_path = file_path.split('/')\n",
    "        file_path[-2]=new_label\n",
    "        file_path = '/'.join(file_path)\n",
    "        return file_path\n",
    "    all_issues['new_filepath'] = all_issues.apply(lambda x: relabel_filepath(x.filepath, x.predicted_label), axis=1)\n",
    "\n",
    "    def move_file(old_path, new_path):\n",
    "        shutil.move(old_path, new_path)  \n",
    "    all_issues.to_csv(f'cleanlab_relabel_{i}.csv')\n",
    "    label_issues = all_issues[all_issues['is_label_issue']]\n",
    "    print(len(label_issues), 'issues found')\n",
    "    label_issues.apply(lambda x: move_file(x.filepath, x.new_filepath), axis=1)"
   ]
  },
  {
   "cell_type": "code",
   "execution_count": 6,
   "id": "bf152fa8-c418-401e-a8a2-55552f2070a4",
   "metadata": {},
   "outputs": [],
   "source": [
    "import matplotlib.pyplot as plt\n",
    "def plot_training_history(history):\n",
    "    \n",
    "    plt.plot(history.history['loss'], label='Loss')\n",
    "    plt.plot(history.history['val_loss'], label='Test Loss')\n",
    "    plt.legend()\n",
    "    plt.show()\n",
    "\n",
    "    plt.plot(history.history['accuracy'], label='Accuracy')\n",
    "    plt.plot(history.history['val_accuracy'], label='Test Accuracy')\n",
    "    plt.legend()\n",
    "    plt.show()\n"
   ]
  },
  {
   "cell_type": "code",
   "execution_count": 7,
   "id": "485f601d-3006-45bd-9c21-b399d2b93e3a",
   "metadata": {},
   "outputs": [
    {
     "data": {
      "image/png": "[encoded data removed]",
      "text/plain": [
       "<Figure size 640x480 with 1 Axes>"
      ]
     },
     "metadata": {},
     "output_type": "display_data"
    },
    {
     "data": {
      "image/png": "[encoded data removed]",
      "text/plain": [
       "<Figure size 640x480 with 1 Axes>"
      ]
     },
     "metadata": {},
     "output_type": "display_data"
    }
   ],
   "source": [
    "plot_training_history(train_history)"
   ]
  },
  {
   "cell_type": "code",
   "execution_count": 4,
   "id": "090d427e-2c47-41ac-ae91-d1499a4c7533",
   "metadata": {},
   "outputs": [
    {
     "name": "stdout",
     "output_type": "stream",
     "text": [
      "hello\n"
     ]
    }
   ],
   "source": [
    "print('hello')"
   ]
  },
  {
   "cell_type": "code",
   "execution_count": 5,
   "id": "ed407945-5ee7-42e2-bd8c-9e7daacf77f4",
   "metadata": {},
   "outputs": [
    {
     "ename": "NameError",
     "evalue": "name 'label_issues' is not defined",
     "output_type": "error",
     "traceback": [
      "\u001b[0;31m---------------------------------------------------------------------------\u001b[0m",
      "\u001b[0;31mNameError\u001b[0m                                 Traceback (most recent call last)",
      "Cell \u001b[0;32mIn[5], line 1\u001b[0m\n\u001b[0;32m----> 1\u001b[0m \u001b[43mlabel_issues\u001b[49m\n",
      "\u001b[0;31mNameError\u001b[0m: name 'label_issues' is not defined"
     ]
    }
   ],
   "source": [
    "label_issues"
   ]
  },
  {
   "cell_type": "code",
   "execution_count": null,
   "id": "14701a97-541c-4b6d-a5e5-7f5c8d26521c",
   "metadata": {},
   "outputs": [],
   "source": []
  }
 ],
 "metadata": {
  "kernelspec": {
   "display_name": "Python 3 (ipykernel)",
   "language": "python",
   "name": "python3"
  },
  "language_info": {
   "codemirror_mode": {
    "name": "ipython",
    "version": 3
   },
   "file_extension": ".py",
   "mimetype": "text/x-python",
   "name": "python",
   "nbconvert_exporter": "python",
   "pygments_lexer": "ipython3",
   "version": "3.10.13"
  }
 },
 "nbformat": 4,
 "nbformat_minor": 5
}
